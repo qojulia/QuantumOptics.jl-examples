{
 "cells": [
  {
   "cell_type": "code",
   "execution_count": 14,
   "metadata": {},
   "outputs": [],
   "source": [
    "using QuantumOptics, PyPlot"
   ]
  },
  {
   "cell_type": "markdown",
   "metadata": {},
   "source": [
    "In this example we will show how can one evolve a wavepacket in 2 spatial dimensions instead of 1. We will do that using [`tensor`](@ref) products between the two spaces. We start similarly with the 1D case, by defining a position basis and a momentum operator for each dimension."
   ]
  },
  {
   "cell_type": "code",
   "execution_count": 2,
   "metadata": {},
   "outputs": [
    {
     "data": {
      "text/plain": [
       "LazyProduct(dim=50x50)\n",
       "  basis: Position(xmin=-20.0, xmax=20.0, N=50)\n",
       "  operators: 3"
      ]
     },
     "execution_count": 2,
     "metadata": {},
     "output_type": "execute_result"
    }
   ],
   "source": [
    "Npoints = 50\n",
    "Npointsy = 50\n",
    "\n",
    "xmin = -30\n",
    "xmax = 30\n",
    "b_position = PositionBasis(xmin, xmax, Npoints)\n",
    "b_momentum = MomentumBasis(b_position)\n",
    "\n",
    "ymin = -20\n",
    "ymax = 20\n",
    "b_positiony = PositionBasis(ymin, ymax, Npointsy)\n",
    "b_momentumy = MomentumBasis(b_positiony)\n",
    "\n",
    "xsample = samplepoints(b_position)\n",
    "ysample = samplepoints(b_positiony)\n",
    "\n",
    "Txp = transform(b_position, b_momentum)\n",
    "Tpx = transform(b_momentum, b_position)\n",
    "Typ = transform(b_positiony, b_momentumy)\n",
    "Tpy = transform(b_momentumy, b_positiony)\n",
    "\n",
    "Hkinx = LazyProduct(Txp, momentum(b_momentum)^2/2, Tpx)\n",
    "Hkiny = LazyProduct(Typ, momentum(b_momentumy)^2/2, Tpy)"
   ]
  },
  {
   "cell_type": "markdown",
   "metadata": {},
   "source": [
    "The kinetic energy is the standard quadratic form, defined as in the 1D case. Normally the Hamiltonian then is the sum of `Hkinx` and `Hkiny`. However, we cannot \"just\" sum these two expressions, because they are defined in a different basis. What we have to do is to create a *composite* basis:"
   ]
  },
  {
   "cell_type": "code",
   "execution_count": 3,
   "metadata": {},
   "outputs": [
    {
     "data": {
      "text/plain": [
       "[Position(xmin=-30.0, xmax=30.0, N=50) ⊗ Position(xmin=-20.0, xmax=20.0, N=50)]"
      ]
     },
     "execution_count": 3,
     "metadata": {},
     "output_type": "execute_result"
    }
   ],
   "source": [
    "b_comp = b_position ⊗ b_positiony"
   ]
  },
  {
   "cell_type": "markdown",
   "metadata": {},
   "source": [
    "Notice that `⊗` is just a shorthand for the function `tensor`:"
   ]
  },
  {
   "cell_type": "code",
   "execution_count": 4,
   "metadata": {},
   "outputs": [
    {
     "name": "stdout",
     "output_type": "stream",
     "text": [
      "search: \u001b[1mt\u001b[22m\u001b[1me\u001b[22m\u001b[1mn\u001b[22m\u001b[1ms\u001b[22m\u001b[1mo\u001b[22m\u001b[1mr\u001b[22m Lazy\u001b[1mT\u001b[22m\u001b[1me\u001b[22m\u001b[1mn\u001b[22m\u001b[1ms\u001b[22m\u001b[1mo\u001b[22m\u001b[1mr\u001b[22m opera\u001b[1mt\u001b[22mors_lazyt\u001b[1me\u001b[22m\u001b[1mn\u001b[22m\u001b[1ms\u001b[22m\u001b[1mo\u001b[22m\u001b[1mr\u001b[22m\n",
      "\n"
     ]
    },
    {
     "data": {
      "text/markdown": [
       "```\n",
       "tensor(x, y, z...)\n",
       "```\n",
       "\n",
       "Tensor product of the given objects. Alternatively, the unicode symbol ⊗ (\\otimes) can be used.\n",
       "\n",
       "```\n",
       "tensor(x::Basis, y::Basis, z::Basis...)\n",
       "```\n",
       "\n",
       "Create a [`CompositeBasis`](@ref) from the given bases.\n",
       "\n",
       "Any given CompositeBasis is expanded so that the resulting CompositeBasis never contains another CompositeBasis.\n",
       "\n",
       "```\n",
       "tensor(x::Ket, y::Ket, z::Ket...)\n",
       "```\n",
       "\n",
       "Tensor product $|x⟩⊗|y⟩⊗|z⟩⊗…$ of the given states.\n",
       "\n",
       "```\n",
       "tensor(x::Operator, y::Operator, z::Operator...)\n",
       "```\n",
       "\n",
       "Tensor product $\\hat{x}⊗\\hat{y}⊗\\hat{z}⊗…$ of the given operators.\n",
       "\n",
       "```\n",
       "tensor(x::Ket, y::Bra)\n",
       "```\n",
       "\n",
       "Outer product $|x⟩⟨y|$ of the given states.\n"
      ],
      "text/plain": [
       "```\n",
       "tensor(x, y, z...)\n",
       "```\n",
       "\n",
       "Tensor product of the given objects. Alternatively, the unicode symbol ⊗ (\\otimes) can be used.\n",
       "\n",
       "```\n",
       "tensor(x::Basis, y::Basis, z::Basis...)\n",
       "```\n",
       "\n",
       "Create a [`CompositeBasis`](@ref) from the given bases.\n",
       "\n",
       "Any given CompositeBasis is expanded so that the resulting CompositeBasis never contains another CompositeBasis.\n",
       "\n",
       "```\n",
       "tensor(x::Ket, y::Ket, z::Ket...)\n",
       "```\n",
       "\n",
       "Tensor product $|x⟩⊗|y⟩⊗|z⟩⊗…$ of the given states.\n",
       "\n",
       "```\n",
       "tensor(x::Operator, y::Operator, z::Operator...)\n",
       "```\n",
       "\n",
       "Tensor product $\\hat{x}⊗\\hat{y}⊗\\hat{z}⊗…$ of the given operators.\n",
       "\n",
       "```\n",
       "tensor(x::Ket, y::Bra)\n",
       "```\n",
       "\n",
       "Outer product $|x⟩⟨y|$ of the given states.\n"
      ]
     },
     "execution_count": 4,
     "metadata": {},
     "output_type": "execute_result"
    }
   ],
   "source": [
    "?tensor"
   ]
  },
  {
   "cell_type": "markdown",
   "metadata": {},
   "source": [
    "Now that we have a composite basis, we can re-write each kinetic energy term to this composite basis. This is also possible with `Lazy` operations."
   ]
  },
  {
   "cell_type": "code",
   "execution_count": 5,
   "metadata": {},
   "outputs": [
    {
     "data": {
      "text/plain": [
       "LazyTensor(dim=2500x2500)\n",
       "  basis: [Position(xmin=-30.0, xmax=30.0, N=50) ⊗ Position(xmin=-20.0, xmax=20.0, N=50)]\n",
       "  operators: 2\n",
       "  indices: [1,2]"
      ]
     },
     "execution_count": 5,
     "metadata": {},
     "output_type": "execute_result"
    }
   ],
   "source": [
    "Hkinx_comp = LazyTensor(b_comp, [1, 2], [Hkinx, one(b_positiony)])\n",
    "Hkiny_comp = LazyTensor(b_comp, [1, 2], [one(b_position), Hkiny])"
   ]
  },
  {
   "cell_type": "markdown",
   "metadata": {},
   "source": [
    "Now we will add a two-dimensional potential. If we wanted to add a one-dimensional potential $V(x)$ the process is identical to the 1D case"
   ]
  },
  {
   "cell_type": "code",
   "execution_count": 6,
   "metadata": {},
   "outputs": [
    {
     "data": {
      "text/plain": [
       "LazyTensor(dim=2500x2500)\n",
       "  basis: [Position(xmin=-30.0, xmax=30.0, N=50) ⊗ Position(xmin=-20.0, xmax=20.0, N=50)]\n",
       "  operators: 2\n",
       "  indices: [1,2]"
      ]
     },
     "execution_count": 6,
     "metadata": {},
     "output_type": "execute_result"
    }
   ],
   "source": [
    "V0 = 4. # Height of Barrier\n",
    "d = 5 # Width of Barrier\n",
    "function V_barrier(x)\n",
    "    if x < -d/2 || x > d/2\n",
    "        return 0.\n",
    "    else\n",
    "        return V0\n",
    "    end\n",
    "end\n",
    "V = potentialoperator(b_position, V_barrier)\n",
    "# Re-write in 2D form:\n",
    "V_comp = LazyTensor(b_comp, [1, 2], [V, one(b_positiony)])"
   ]
  },
  {
   "cell_type": "markdown",
   "metadata": {},
   "source": [
    "However, making a truly 2D potential is a tiny bit more involved. The first thing you need to understand is that all that `potentialoperator` does is create a `diagonaloperator` (since the potential function is always a diagonal operator). So, considering the fact that the operators x and y are diagonal in a position basis (and hence also their tensor product), applying a function to a tensor product x ⊗ y results in a diagonal operator where the function is applied to each element of a diagonal.\n",
    "\n",
    "This is easily done in the 2D case like\n"
   ]
  },
  {
   "cell_type": "code",
   "execution_count": 7,
   "metadata": {},
   "outputs": [],
   "source": [
    "potential(x,y) = sin(x*y) + cos(y)\n",
    "Vvec = [potential(x, y) for x in xsample for y in ysample];\n",
    "\n",
    "# V_comp = diagonaloperator(b_comp, Vvec) # we will use the 1D for visualization"
   ]
  },
  {
   "cell_type": "markdown",
   "metadata": {},
   "source": [
    "Then one creates the full Hamiltonian simply by combining the kinetic and potential terms"
   ]
  },
  {
   "cell_type": "code",
   "execution_count": 8,
   "metadata": {},
   "outputs": [
    {
     "data": {
      "text/plain": [
       "LazySum(dim=2500x2500)\n",
       "  basis: [Position(xmin=-30.0, xmax=30.0, N=50) ⊗ Position(xmin=-20.0, xmax=20.0, N=50)]\n",
       "  operators: 3"
      ]
     },
     "execution_count": 8,
     "metadata": {},
     "output_type": "execute_result"
    }
   ],
   "source": [
    "H = LazySum(Hkinx_comp, Hkiny_comp, V_comp)"
   ]
  },
  {
   "cell_type": "markdown",
   "metadata": {},
   "source": [
    "Now we can perform the time evolution. Unfortunately `timeevolution.schroedinger` currently has no implementation that works with a LazyTensor operator consisting of LazyProduct operators (The issue tracking this is here: https://github.com/qojulia/QuantumOptics.jl/issues/190).\n",
    "\n",
    "This means that the Hamiltonian matrix has to be recasted from Lazy form to \"normal\" form"
   ]
  },
  {
   "cell_type": "code",
   "execution_count": 9,
   "metadata": {},
   "outputs": [],
   "source": [
    "Hfull = sparse(full(H));"
   ]
  },
  {
   "cell_type": "markdown",
   "metadata": {},
   "source": [
    "Now we will create a wavepacket in 2D and evolve it:"
   ]
  },
  {
   "cell_type": "code",
   "execution_count": 10,
   "metadata": {},
   "outputs": [],
   "source": [
    "ψx = gaussianstate(b_position, -10.0, 1.5, 2)\n",
    "ψy = gaussianstate(b_positiony, 0, 0.5, 2)\n",
    "ψ = ψx ⊗ ψy # again tensor product\n",
    "\n",
    "T = collect(0.0:0.1:15.0)\n",
    "tout, C = timeevolution.schroedinger(T, ψ, Hfull);"
   ]
  },
  {
   "cell_type": "code",
   "execution_count": 11,
   "metadata": {},
   "outputs": [
    {
     "data": {
      "image/png": "[encoded data removed]",
      "text/plain": [
       "PyPlot.Figure(PyObject <matplotlib.figure.Figure object at 0x7f4718210490>)"
      ]
     },
     "metadata": {},
     "output_type": "display_data"
    }
   ],
   "source": [
    "c = C[1]\n",
    "data = reshape(abs2.(c.data), (Npoints, Npointsy))'\n",
    "norm = maximum(data)\n",
    "function plot_wp(i)\n",
    "    data = reshape(abs2.(C[i].data), (Npoints, Npointsy))'\n",
    "    figure()\n",
    "    ima = imshow(data, origin = \"lower\", extent = [xmin, xmax, ymin, ymax],\n",
    "    cmap = \"inferno\", vmax = norm)\n",
    "    tight_layout()\n",
    "end\n",
    "plot_wp(1)"
   ]
  },
  {
   "cell_type": "code",
   "execution_count": 12,
   "metadata": {},
   "outputs": [
    {
     "data": {
      "image/png": "[encoded data removed]",
      "text/plain": [
       "PyPlot.Figure(PyObject <matplotlib.figure.Figure object at 0x7f4712f98d90>)"
      ]
     },
     "metadata": {},
     "output_type": "display_data"
    }
   ],
   "source": [
    "plot_wp(50)\n"
   ]
  },
  {
   "cell_type": "code",
   "execution_count": 13,
   "metadata": {},
   "outputs": [
    {
     "data": {
      "image/png": "[encoded data removed]",
      "text/plain": [
       "PyPlot.Figure(PyObject <matplotlib.figure.Figure object at 0x7f4712ed4e10>)"
      ]
     },
     "metadata": {},
     "output_type": "display_data"
    }
   ],
   "source": [
    "plot_wp(100)"
   ]
  },
  {
   "cell_type": "code",
   "execution_count": null,
   "metadata": {},
   "outputs": [],
   "source": []
  }
 ],
 "metadata": {
  "kernelspec": {
   "display_name": "Julia 0.6.2",
   "language": "julia",
   "name": "julia-0.6"
  },
  "language_info": {
   "file_extension": ".jl",
   "mimetype": "application/julia",
   "name": "julia",
   "version": "0.6.2"
  }
 },
 "nbformat": 4,
 "nbformat_minor": 2
}
