{
 "cells": [
  {
   "cell_type": "markdown",
   "metadata": {},
   "source": [
    "# Heat-pumped three-level maser\n",
    "\n",
    "Consider a three-level atom that interacts with two heat baths at temperatures $T_\\mathrm{c}$ and $T_\\mathrm{h}$, respectively, and a single cavity field mode. The cavity mode is further coupled to an environment at temperature $T_\\mathrm{env}$.\n",
    "\n",
    "The atomic transition $|1\\rangle \\leftrightarrow |3\\rangle$ at frequency $\\omega_\\mathrm{h}:=\\omega_3-\\omega_1$ is coupled to the hot bath, the atomic transition $|2\\rangle \\leftrightarrow |3\\rangle$ at frequency $\\omega_\\mathrm{c}:=\\omega_3-\\omega_2$ is coupled to the cold bath and the atomic transition $|1\\rangle \\leftrightarrow |2\\rangle$ at frequency $\\omega_\\mathrm{f}:=\\omega_2-\\omega_1$ (the lasing transition) is coupled to the cavity mode.\n",
    "\n",
    "The Hamiltonian\n",
    "\n",
    "\\begin{equation}\n",
    "H=H_\\mathrm{free}+H_\\mathrm{int}\n",
    "\\end{equation}\n",
    "\n",
    "consists of the \"free\" atomic and cavity Hamiltonian\n",
    "\n",
    "\\begin{equation}\n",
    "H_\\mathrm{free}=\\hbar\\omega_1 |1\\rangle\\langle 1|+\\hbar\\omega_2 |2\\rangle\\langle 2|+\\hbar\\omega_3 |3\\rangle\\langle 3|+\\hbar\\omega_\\mathrm{f}a^\\dagger a\n",
    "\\end{equation}\n",
    "\n",
    "and the Jaynes-Cummings interaction\n",
    "\n",
    "\\begin{equation}\n",
    "H_\\mathrm{int}=\\hbar g\\left(\\sigma_{12}a^\\dagger+\\sigma_{21} a\\right).\n",
    "\\end{equation}\n",
    "\n",
    "\n",
    "The interaction with the various environmental heat baths is described by the Liouvillian\n",
    "\n",
    "\\begin{align}\n",
    "\\mathcal{L}\\rho =\\quad &\\frac{\\gamma_\\mathrm{h}}{2}[\\bar{n}(\\omega_\\mathrm{h},T_\\mathrm{h})+1] \\mathcal{D}[\\sigma_{13}] + \\frac{\\gamma_\\mathrm{h}}{2}\\bar{n}(\\omega_\\mathrm{h},T_\\mathrm{h}) \\mathcal{D}[\\sigma_{31}]\\\\\n",
    "+ &\\frac{\\gamma_\\mathrm{c}}{2}[\\bar{n}(\\omega_\\mathrm{c},T_\\mathrm{c})+1] \\mathcal{D}[\\sigma_{23}] + \\frac{\\gamma_\\mathrm{c}}{2}\\bar{n}(\\omega_\\mathrm{c},T_\\mathrm{c}) \\mathcal{D}[\\sigma_{32}]\\\\\n",
    "+ &\\kappa[\\bar{n}(\\omega_\\mathrm{f},T_\\mathrm{env})+1] \\mathcal{D}[a] + \\kappa\\bar{n}(\\omega_\\mathrm{f},T_\\mathrm{env}) \\mathcal{D}[a^\\dagger],\n",
    "\\end{align}\n",
    "\n",
    "where the dissipator is defined as $\\mathcal{D}[A]:= 2A\\rho A^\\dagger - A^\\dagger A \\rho -\\rho A^\\dagger A$.\n",
    "\n",
    "The time evolution of the joint atom-field state is then given by the master equation\n",
    "\n",
    "\\begin{equation}\n",
    "\\dot{\\rho}(t) = \\frac{1}{i\\hbar}[H,\\rho] + \\mathcal{L}\\rho.\n",
    "\\end{equation}"
   ]
  },
  {
   "cell_type": "code",
   "execution_count": null,
   "metadata": {},
   "outputs": [],
   "source": [
    "using QuantumOptics\n",
    "using PyPlot\n",
    "using LinearAlgebra"
   ]
  },
  {
   "cell_type": "code",
   "execution_count": null,
   "metadata": {},
   "outputs": [],
   "source": [
    "const nph=50     # cavity mode photon cutoff\n",
    "\n",
    "const Th=100.    # temperature of the hot bath\n",
    "const Tc=20.     # temperature of the cold bath\n",
    "const Tenv=0.    # environment temperature for the cavity\n",
    "\n",
    "const omega1=0.\n",
    "const omega2=30.\n",
    "const omega3=150.\n",
    "\n",
    "const omegaf=omega2-omega1  # cavity frequency (lasing frequency)\n",
    "const omegah=omega3-omega1  # frequency of the atomic transition that is coupled to the hot bath\n",
    "const omegac=omega3-omega2  # frequency of the atomic transition that is coupled to the cold bath\n",
    "\n",
    "const g=5.\n",
    "const kappa=0.1\n",
    "const gammah=40.\n",
    "const gammac=40.\n",
    "\n",
    "const tmax=50.\n",
    "const dt=.1\n",
    "const tvec=[0.:dt:tmax;]        # output times for expectation values (high resolution)\n",
    "const dtrho=10.\n",
    "const trhovec=[0.:dtrho:tmax;]; # output times for the density matrix (low resolution)"
   ]
  },
  {
   "cell_type": "code",
   "execution_count": null,
   "metadata": {},
   "outputs": [],
   "source": [
    "const ba=NLevelBasis(3)\n",
    "const bf=FockBasis(nph)\n",
    "const b_comp=ba⊗bf\n",
    "\n",
    "const psi1=nlevelstate(ba,1)\n",
    "const psi2=nlevelstate(ba,2)\n",
    "const psi3=nlevelstate(ba,3)\n",
    "\n",
    "const proj1=projector(psi1)⊗one(bf)\n",
    "const proj2=projector(psi2)⊗one(bf)\n",
    "const proj3=projector(psi3)⊗one(bf)\n",
    "\n",
    "const sigma13=transition(ba,1,3)⊗one(bf)\n",
    "const sigma23=transition(ba,2,3)⊗one(bf)\n",
    "const sigma12=transition(ba,1,2)⊗one(bf)\n",
    "\n",
    "const a=one(ba)⊗destroy(bf);"
   ]
  },
  {
   "cell_type": "code",
   "execution_count": null,
   "metadata": {},
   "outputs": [],
   "source": [
    "const Hfree=omega1*proj1+omega2*proj2+omega3*proj3+omegaf*dagger(a)*a\n",
    "\n",
    "const Hint=g*(sigma12*dagger(a)+a*dagger(sigma12))\n",
    "\n",
    "const H=Hfree+Hint;"
   ]
  },
  {
   "cell_type": "code",
   "execution_count": null,
   "metadata": {},
   "outputs": [],
   "source": [
    "const R=Array{Float64}(undef,6)\n",
    "nbar(omega::Float64,T::Float64)=(exp(omega/T)-1)^(-1) # hbar=k_B=1\n",
    "\n",
    "R[1]=gammah*(nbar(omegah,Th)+1)\n",
    "R[2]=gammah* nbar(omegah,Th)\n",
    "\n",
    "R[3]=gammac*(nbar(omegac,Tc)+1)\n",
    "R[4]=gammac* nbar(omegac,Tc)\n",
    "\n",
    "R[5]=2*kappa*(nbar(omegaf,Tenv)+1)\n",
    "R[6]=2*kappa* nbar(omegaf,Tenv)\n",
    "\n",
    "const J=[sqrt(R[1])*sigma13,sqrt(R[2])*dagger(sigma13),\n",
    "         sqrt(R[3])*sigma23,sqrt(R[4])*dagger(sigma23),\n",
    "         sqrt(R[5])*a,sqrt(R[6])*dagger(a)];"
   ]
  },
  {
   "cell_type": "code",
   "execution_count": null,
   "metadata": {},
   "outputs": [],
   "source": [
    "const trho=Array{Float64}(undef,length(trhovec))\n",
    "const rho=[DenseOperator(b_comp) for k=1:length(trhovec)]\n",
    "\n",
    "# This dictionary contains the operators whose expectation values should be \n",
    "# computed with high resolution during the time evolution\n",
    "const operators=Dict(:adagger_a=>a'*a,\n",
    "                     :adagger_adagger_a_a=>a'*a'*a*a,\n",
    "                     :population1=>proj1,\n",
    "                     :population2=>proj2,\n",
    "                     :population3=>proj3)\n",
    "\n",
    "function compute_expvalues(τ,ρ)\n",
    "    index=findfirst(isapprox.(τ,trhovec)) # The comparison of floats is problematic\n",
    "        if !isnothing(index) # save ρ if τ is contained in throvec\n",
    "            trho[index]=τ\n",
    "            rho[index]=copy(ρ)\n",
    "        end\n",
    "    return Dict{Symbol,ComplexF64}(key=>expect(value,ρ) for (key,value) in operators)\n",
    "end;"
   ]
  },
  {
   "cell_type": "code",
   "execution_count": null,
   "metadata": {},
   "outputs": [],
   "source": [
    "const r0=dm(psi1)⊗dm(fockstate(bf,0))\n",
    "normalize!(r0)\n",
    "    \n",
    "t,expvalues=timeevolution.master(tvec,r0,H,J;fout=compute_expvalues);"
   ]
  },
  {
   "cell_type": "code",
   "execution_count": null,
   "metadata": {},
   "outputs": [],
   "source": [
    "g2=real.(getindex.(expvalues,:adagger_adagger_a_a)./getindex.(expvalues,:adagger_a).^2)\n",
    "rhof=[ptrace(r,1) for r in rho]\n",
    "\n",
    "x=[-7.5:0.01:7.5;]\n",
    "qfunc_ss=qfunc(rhof[end],x,x); # steady-state Q function"
   ]
  },
  {
   "cell_type": "code",
   "execution_count": null,
   "metadata": {},
   "outputs": [],
   "source": [
    "figure(figsize=[12.8,8.6])\n",
    "\n",
    "subplot(2,2,1)\n",
    "plot(t,real.(getindex.(expvalues,:population1)),label=\"population of level \"*L\"|1\\rangle\")\n",
    "plot(t,real.(getindex.(expvalues,:population2)),label=\"population of level \"*L\"|2\\rangle\")\n",
    "plot(t,real.(getindex.(expvalues,:population3)),label=\"population of level \"*L\"|3\\rangle\")\n",
    "title(\"atomic populations\")\n",
    "xlabel(\"t\")\n",
    "legend()\n",
    "grid()\n",
    "\n",
    "subplot(2,2,2)\n",
    "plot(t,real.(getindex.(expvalues,:adagger_a)))\n",
    "title(\"photon number\")\n",
    "xlabel(\"t\")\n",
    "ylabel(L\"\\langle a^\\dagger a\\rangle\")\n",
    "grid()\n",
    "\n",
    "subplot(2,2,3)\n",
    "plot(tvec,g2)\n",
    "title(L\"g^{(2)}\"*\" function\")\n",
    "xlabel(\"t\")\n",
    "ylabel(L\"g^{(2)}(0)\")\n",
    "grid()\n",
    "\n",
    "subplot(2,2,4)\n",
    "pcolormesh(x,x,transpose(real(qfunc_ss)),cmap=\"jet\")\n",
    "axis(\"equal\")\n",
    "title(L\"Q\"*\" function at \"*L\"t=\"*string(tvec[end]))\n",
    "xlabel(L\"$\\mathrm{Re}\\,\\alpha$\")\n",
    "ylabel(L\"$\\mathrm{Im}\\,\\alpha$\")\n",
    "\n",
    "tight_layout()"
   ]
  },
  {
   "cell_type": "code",
   "execution_count": null,
   "metadata": {},
   "outputs": [],
   "source": [
    "bar([0:nph;],real.(diag(rhof[end].data)))\n",
    "title(\"photon statistics at \"*L\"t=\"*string(tvec[end]))\n",
    "xlabel(\"n\")\n",
    "grid()"
   ]
  }
 ],
 "metadata": {
  "kernelspec": {
   "display_name": "Julia 1.4.2",
   "language": "julia",
   "name": "julia-1.4"
  },
  "language_info": {
   "file_extension": ".jl",
   "mimetype": "application/julia",
   "name": "julia",
   "version": "1.4.2"
  }
 },
 "nbformat": 4,
 "nbformat_minor": 4
}
