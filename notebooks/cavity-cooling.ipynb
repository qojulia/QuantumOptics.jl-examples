{
 "cells": [
  {
   "cell_type": "markdown",
   "metadata": {},
   "source": [
    "*This notebook can be found on* [github](https://github.com/qojulia/QuantumOptics.jl-examples/tree/master/notebooks/cavity-cooling.ipynb)\n",
    "\n",
    "# Cavity cooling of a two-level atom"
   ]
  },
  {
   "cell_type": "markdown",
   "metadata": {},
   "source": [
    "Cavity cooling relies on spontaneous emission of an atom that is coupled to a field that has a certain energy mismatch. The atomic motion then compensates for the missing energy.\n",
    "\n",
    "Consider a two-level atom moving in a coherently driven cavity. The Hamiltonian is\n",
    "\n",
    "$H = -\\Delta_c a^\\dagger a - \\Delta_a\\sigma^+\\sigma^- + \\eta(a + a^\\dagger) + g\\cos(x)(a^\\dagger \\sigma^- + a\\sigma^+),$\n",
    "\n",
    "where $\\Delta_c = \\omega_l - \\omega_c$, $\\Delta_a=\\omega_l - \\omega_a$ and $\\omega_c$ is the cavity frequency, $\\omega_a$ the atomic transition frequency and $\\omega_l$ the frequency of the laser driving the cavity. The pump strength is $\\eta$, while the atom couples to the cavity with $g$ and the cavity has a mode function $\\cos(x)$. The atomic position $x$ is in units of the inverse cavity wave number. Note that this is a number rather than an operator since we treat the atomic motion classically.\n",
    "\n",
    "Decay and cavity damping are modeled by the Liouvillians\n",
    "\n",
    "$\\mathcal{L}_c[\\rho] = \\kappa(2a\\rho a^\\dagger - a^\\dagger a \\rho - \\rho a^\\dagger a),$\n",
    "\n",
    "$\\mathcal{L}_a[\\rho] = \\gamma(2\\sigma^-\\rho\\sigma^+ - \\sigma^+\\sigma^-\\rho - \\rho\\sigma^+\\sigma^-)$.\n",
    "\n",
    "In addition we have the classical differential equations of the atomic motion obtained by making use of the Eherenfest theorem,\n",
    "\n",
    "$\\dot{x} = 2\\omega_r p$,\n",
    "\n",
    "$\\dot{p} = -\\partial_x\\langle H\\rangle = 2\\sin(x)~\\Re\\left\\{\\langle a^\\dagger\\sigma^-\\rangle\\right\\},$\n",
    "\n",
    "where $p$ is the momentum in units of the cavity wave number and $\\omega_r=k_c^2/(2m)$ is the recoil frequency.\n",
    "\n",
    "Note, that in order for the cavity to cool the atom, a cavity photon must have less energy than a photon on resonance with the atom, i.e. the cavity must be red-detuned from the atom ($\\omega_c < \\omega_a$)."
   ]
  },
  {
   "cell_type": "markdown",
   "metadata": {},
   "source": [
    "We will now use the implemented semi-classical master equation to solve the above dynamics.\n",
    "\n",
    "First, we define the necessary parameters, our Hilbert space and corresponding operators."
   ]
  },
  {
   "cell_type": "code",
   "execution_count": null,
   "metadata": {},
   "outputs": [],
   "source": [
    "using QuantumOptics\n",
    "\n",
    "# Parameters\n",
    "Nc = 16\n",
    "γ = 1.\n",
    "g = γ/2.\n",
    "κ = 0.5γ\n",
    "ωr = .15γ\n",
    "Δc = -γ\n",
    "Δa = -2γ\n",
    "η = γ\n",
    "tmax = 600\n",
    "tsteps = 10*tmax\n",
    "dt = tmax/tsteps\n",
    "tlist = [0:dt:tmax;]\n",
    "\n",
    "# Hilbert space\n",
    "bc = FockBasis(Nc)\n",
    "ba = SpinBasis(1//2)\n",
    "\n",
    "# Operators\n",
    "a = destroy(bc) ⊗ one(ba)\n",
    "ad = dagger(a)\n",
    "sm = one(bc) ⊗ sigmam(ba)\n",
    "sp = dagger(sm);"
   ]
  },
  {
   "cell_type": "markdown",
   "metadata": {},
   "source": [
    "We now define the Hamiltonian as two separate parts, one that is position dependent and one that is independent of $x$. This is for reasons of performance, since it is more efficient to simply add the two parts where one is multiplied by $\\cos(x)$ than creating the entire Hamiltonian in every time-step."
   ]
  },
  {
   "cell_type": "code",
   "execution_count": null,
   "metadata": {},
   "outputs": [],
   "source": [
    "# Hamiltonian\n",
    "H0 = -Δc*ad*a - Δa*sp*sm + η*(a + ad)\n",
    "Hx = g*(a*sp + ad*sm) # ∝ cos(x)\n",
    "\n",
    "# Jump operators\n",
    "J = [sqrt(2κ)*a, sqrt(2γ)*sm]\n",
    "Jdagger = map(dagger, J);"
   ]
  },
  {
   "cell_type": "markdown",
   "metadata": {},
   "source": [
    "The semi-classical time evolution requires two functions as arguments: one function that returns the updated Hamiltonian and jump operators at every step and one that updates the vector containing the time derivatives of the classical variables. Note, that the efficiency of the operations performed inside these function is very important for overall perfomance, each function is called at every time-step."
   ]
  },
  {
   "cell_type": "code",
   "execution_count": null,
   "metadata": {},
   "outputs": [],
   "source": [
    "function fquantum(t, psi, u) # psi is the quantum, u the classical part\n",
    "  x = u[1]\n",
    "  return H0 + Hx*cos(x), J, Jdagger\n",
    "end\n",
    "\n",
    "adsm = ad*sm # Define to avoid doing a multiplication at every step\n",
    "function fclassical!(du, u, psi, t) # du is a vector containing the increments of the classical variables\n",
    "  du[1] = 2ωr*u[2]\n",
    "  du[2] = 2g*sin(u[1])*real(expect(adsm, psi))\n",
    "end;"
   ]
  },
  {
   "cell_type": "markdown",
   "metadata": {},
   "source": [
    "Before we calculate the time evolution, we need to define the initial state which needs to be a semi-classical one. It consists of a quantum part (a ket or density operator) and a vector of classical variables. **Note**: the vector containing the **classical variables** needs to be **complex**."
   ]
  },
  {
   "cell_type": "code",
   "execution_count": null,
   "metadata": {},
   "outputs": [],
   "source": [
    "x0 = sqrt(2) # Some arbitrary initial position\n",
    "p0 = 7.0 # Some arbitrary initial momentum\n",
    "u0 = complex.([x0, p0])\n",
    "\n",
    "ψ0 = fockstate(bc, 0) ⊗ spindown(ba)\n",
    "\n",
    "ψsc0 = semiclassical.State(ψ0, u0);"
   ]
  },
  {
   "cell_type": "markdown",
   "metadata": {},
   "source": [
    "Finally, we can calculate the time evolution by calling dynamic master equation solver from the semiclassical module."
   ]
  },
  {
   "cell_type": "code",
   "execution_count": null,
   "metadata": {},
   "outputs": [],
   "source": [
    "tout, ρt = semiclassical.master_dynamic(tlist, ψsc0, fquantum, fclassical!);"
   ]
  },
  {
   "cell_type": "markdown",
   "metadata": {},
   "source": [
    "We can now calculate expectation values as with any other density operator and retrieve the classical variables."
   ]
  },
  {
   "cell_type": "code",
   "execution_count": null,
   "metadata": {},
   "outputs": [],
   "source": [
    "x = []\n",
    "p = []\n",
    "for r=ρt\n",
    "    push!(x, real(r.classical[1]))\n",
    "    push!(p, real(r.classical[2]))\n",
    "end\n",
    "\n",
    "n = real(expect(ad*a, ρt))\n",
    "pe = real(expect(sp*sm, ρt));"
   ]
  },
  {
   "cell_type": "code",
   "execution_count": null,
   "metadata": {},
   "outputs": [],
   "source": [
    "using PyPlot\n",
    "\n",
    "figure(figsize=(10, 5))\n",
    "subplot(221)\n",
    "plot(tout, x)\n",
    "xlabel(L\"$t$\")\n",
    "ylabel(L\"$x$\")\n",
    "\n",
    "subplot(222)\n",
    "plot(tout, p.^2)\n",
    "xlabel(L\"$t$\")\n",
    "ylabel(L\"$E_{kin}$\")\n",
    "\n",
    "subplot(223)\n",
    "plot(tout, n)\n",
    "xlabel(L\"$t$\")\n",
    "ylabel(L\"$n$\")\n",
    "\n",
    "subplot(224)\n",
    "plot(tout, pe)\n",
    "xlabel(L\"$t$\")\n",
    "ylabel(L\"$\\langle \\sigma^+\\sigma^-\\rangle$\")\n",
    "\n",
    "tight_layout();"
   ]
  },
  {
   "cell_type": "markdown",
   "metadata": {},
   "source": [
    "## Including recoil via MCWF"
   ]
  },
  {
   "cell_type": "markdown",
   "metadata": {},
   "source": [
    "In the treatment so far we have neglected the momentum kick the atom gains when it spontaneously emits a photon out of the cavity. This approximation is valid as long as the momentum of the atom is much larger than the recoil momentum of a single photon, i.e. $p \\gg k_c$. However, since the cooling is quite efficient we might be going below this limit.\n",
    "\n",
    "We can include the recoil by making use of semiclassical Monte-Carlo wave function (MCWF) trjacetories. To this end, we need to implement the recoil event via a classical jump which occurs when the atom spontaneously jumps from the excited to the ground state.\n",
    "\n",
    "The treatment here will be somewhat simplified, thus giving qualitative insights only. Namely, we would actually have to take into account the dipole pattern of spontaneous emission. However, we are working only in 1D and for simplicitly will simply assume that any momentum kick in the interval $[-k_c,k_c]$ is equally likely. Since the momentum in our computation is in units of $k_c$, this amounts to a uniform distribution in the interval $[-1,1]$.\n",
    "\n",
    "The function adding such a recoil to the momentum has the following form:"
   ]
  },
  {
   "cell_type": "code",
   "execution_count": null,
   "metadata": {},
   "outputs": [],
   "source": [
    "using Random\n",
    "function fjump_classical!(u,psi,i,t)\n",
    "    if i==2\n",
    "        u[2] += 2*rand()-1.0\n",
    "    end\n",
    "    return nothing\n",
    "end;"
   ]
  },
  {
   "cell_type": "markdown",
   "metadata": {},
   "source": [
    "Note that the function above updates `u[2]` (the momentum) in-place only if the index `i==2`. This is because `i` is the index of the list of jump operators `J`, and thus `i==1` corresponds to a photon leaving the cavity, which does not have any direct effect on the momentum.\n",
    "\n",
    "Now, we compute the momentum for many different MCWF trajectories."
   ]
  },
  {
   "cell_type": "code",
   "execution_count": null,
   "metadata": {},
   "outputs": [],
   "source": [
    "Ntraj = 200\n",
    "fout = (t,psi)->real(psi.classical[2]) # save only the momentum\n",
    "p_tot = Vector{Float64}[]\n",
    "for i=1:Ntraj\n",
    "    t_, p_ = semiclassical.mcwf_dynamic(tlist, ψsc0, fquantum, fclassical!, fjump_classical!;\n",
    "                                            fout=fout)\n",
    "    push!(p_tot, p_)\n",
    "end"
   ]
  },
  {
   "cell_type": "markdown",
   "metadata": {},
   "source": [
    "The kinetic energy is essentially given by $\\omega_r\\langle \\hat{p}^2\\rangle$ (where $\\hat{p}$ is the momentum operator). In the previous treatment we assumed the motion to be fully classical, such that the kinetic energy is merely proportional to $p^2$. Due to the more rigorous treatment of recoil, we can now actually compute the variance of $p$ from the multiple trajectories. Note, that we will do so by using the `var` function, which is another simplification, since it assumes a Gaussian distribution."
   ]
  },
  {
   "cell_type": "code",
   "execution_count": null,
   "metadata": {},
   "outputs": [],
   "source": [
    "using Statistics\n",
    "Ekin = zeros(length(tlist))\n",
    "for j=1:length(tlist)\n",
    "    p_ = [p_tot[i][j] for i=1:Ntraj]\n",
    "    Ekin[j] = var(p_) + mean(p_)^2\n",
    "end"
   ]
  },
  {
   "cell_type": "markdown",
   "metadata": {},
   "source": [
    "Finally, we compare this to the previously obtained results."
   ]
  },
  {
   "cell_type": "code",
   "execution_count": null,
   "metadata": {},
   "outputs": [],
   "source": [
    "figure(figsize=(10,2.5))\n",
    "subplot(121)\n",
    "plot(tlist,p.^2, label=\"master\")\n",
    "plot(tlist,Ekin, label=\"mcwf\")\n",
    "legend();\n",
    "\n",
    "subplot(122)\n",
    "index = div(length(tlist),2)\n",
    "plot(tlist[index:end],p[index:end].^2, label=\"master\")\n",
    "plot(tlist[index:end],Ekin[index:end], label=\"mcwf\")\n",
    ";"
   ]
  },
  {
   "cell_type": "markdown",
   "metadata": {},
   "source": [
    "As we can see, the recoil indeed affects the cooling process. On the one hand, it causes the cooling process to be considerably slower. On the other hand, as we can see when zooming in on the final part of the time evolution of the kinetic energy (on the right), it also leads to a higher final temperature than before."
   ]
  }
 ],
 "metadata": {
  "@webio": {
   "lastCommId": null,
   "lastKernelId": null
  },
  "kernelspec": {
   "display_name": "Julia 1.6.1",
   "language": "julia",
   "name": "julia-1.6"
  },
  "language_info": {
   "file_extension": ".jl",
   "mimetype": "application/julia",
   "name": "julia",
   "version": "1.6.1"
  }
 },
 "nbformat": 4,
 "nbformat_minor": 2
}
