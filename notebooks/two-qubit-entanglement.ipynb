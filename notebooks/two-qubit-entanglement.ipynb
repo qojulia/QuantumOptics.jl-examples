{
 "cells": [
  {
   "cell_type": "markdown",
   "metadata": {
    "collapsed": true,
    "deletable": true,
    "editable": true
   },
   "source": [
    "*This notebook can be found on* [github](https://github.com/qojulia/QuantumOptics.jl-examples/tree/master/notebooks/two-qubit-entanglement.ipynb)\n",
    "\n",
    "# Entanglement of Two Qubits"
   ]
  },
  {
   "cell_type": "markdown",
   "metadata": {
    "deletable": true,
    "editable": true
   },
   "source": [
    "Given a system of two qubits (two spin-1/2 particles) that are initially in a separable state (product state), it is necessary to apply a non-local operation in order to create entanglement between the qubits. We can do this by evolving the system with a non-local Hamiltonian, that will then periodically generate entanglement.\n",
    "\n",
    "Consider two qubits initially in the state\n",
    "\n",
    "$|\\psi_0\\rangle = |0\\rangle \\otimes |1\\rangle = |\\downarrow\\rangle \\otimes |\\uparrow\\rangle.$\n",
    "\n",
    "If we compute the time evolution of this state with the Hamiltonian\n",
    "\n",
    "$H = \\Omega\\left(\\sigma^+\\otimes \\sigma^- + \\sigma^-\\otimes\\sigma^+\\right),$\n",
    "\n",
    "we will see that entanglement is created periodically. The Von Neumann entropy of the reduced density matrix of one of the sub-systems will serve as the measure of the two-qubit entanglement. It is defined as\n",
    "\n",
    "$S(\\rho_\\mathrm{red}) = -\\mathrm{tr}\\left(\\rho_\\mathrm{red}\\log(\\rho_\\mathrm{red})\\right) = -\\sum_n\\lambda_n\\log(\\lambda_n),$\n",
    "\n",
    "where $\\lambda_n$ is the $n$th eigenvalue of $\\rho_\\mathrm{red}$, $\\log$ is the natural logarithm and we define $\\log(0)\\equiv 0$. In our case the reduced density matrix is\n",
    "\n",
    "$\\rho_\\mathrm{red} = \\mathrm{tr}_{1,2}(\\rho),$\n",
    "\n",
    "where $\\rho$ is the density matrix of the entire system and $\\mathrm{tr}_{1,2}$ is the partial trace over the first or second qubit."
   ]
  },
  {
   "cell_type": "markdown",
   "metadata": {
    "deletable": true,
    "editable": true
   },
   "source": [
    "As always, we start by importing the required libraries and define the necessary paramters."
   ]
  },
  {
   "cell_type": "code",
   "execution_count": null,
   "metadata": {
    "collapsed": true,
    "deletable": true,
    "editable": true
   },
   "outputs": [],
   "source": [
    "using QuantumOptics\n",
    "using PyPlot\n",
    "\n",
    "# Parameters\n",
    "Ω = 0.5\n",
    "t = [0:0.1:10;];"
   ]
  },
  {
   "cell_type": "markdown",
   "metadata": {
    "deletable": true,
    "editable": true
   },
   "source": [
    "Then we proceed to define the Qubit basis as spin-1/2 basis and write our Hamiltonian accordingly."
   ]
  },
  {
   "cell_type": "code",
   "execution_count": null,
   "metadata": {
    "collapsed": false,
    "deletable": true,
    "editable": true
   },
   "outputs": [],
   "source": [
    "# Hamiltonian\n",
    "b = SpinBasis(1//2)\n",
    "H = Ω*(sigmap(b) ⊗ sigmam(b) + sigmam(b) ⊗ sigmap(b));"
   ]
  },
  {
   "cell_type": "markdown",
   "metadata": {
    "deletable": true,
    "editable": true
   },
   "source": [
    "Defining the initial state, we can evolve using a Schrödinger equation since there is no incoherent process present."
   ]
  },
  {
   "cell_type": "code",
   "execution_count": null,
   "metadata": {
    "collapsed": true,
    "deletable": true,
    "editable": true
   },
   "outputs": [],
   "source": [
    "ψ₀ = spindown(b) ⊗ spinup(b)\n",
    "tout, ψₜ = timeevolution.schroedinger(t, ψ₀, H);"
   ]
  },
  {
   "cell_type": "markdown",
   "metadata": {
    "deletable": true,
    "editable": true
   },
   "source": [
    "As explained above, we need the reduced density matrix of one of the Qubits. We therefore take the partial trace and compute the Von Neumann entropy using the implemented function `entropy_vn`. Note, that the maximal VN entropy is $\\log(2)$. Here, we rescale it by this factor, such that $0\\leq S \\leq 1$."
   ]
  },
  {
   "cell_type": "code",
   "execution_count": null,
   "metadata": {
    "collapsed": true,
    "deletable": true,
    "editable": true
   },
   "outputs": [],
   "source": [
    "# Reduced density matrix\n",
    "ρ_red = [ptrace(ψ ⊗ dagger(ψ), 1) for ψ=ψₜ]\n",
    "S = [entropy_vn(ρ)/log(2) for ρ=ρ_red];"
   ]
  },
  {
   "cell_type": "markdown",
   "metadata": {
    "deletable": true,
    "editable": true
   },
   "source": [
    "Finally, we plot the result."
   ]
  },
  {
   "cell_type": "code",
   "execution_count": null,
   "metadata": {
    "collapsed": false,
    "deletable": true,
    "editable": true
   },
   "outputs": [],
   "source": [
    "figure(figsize=(6, 3))\n",
    "plot(tout, S)\n",
    "show()"
   ]
  },
  {
   "cell_type": "code",
   "execution_count": null,
   "metadata": {
    "collapsed": true,
    "deletable": true,
    "editable": true
   },
   "outputs": [],
   "source": []
  }
 ],
 "metadata": {
  "anaconda-cloud": {},
  "kernelspec": {
   "display_name": "Julia 0.5.1",
   "language": "julia",
   "name": "julia-0.5"
  },
  "language_info": {
   "file_extension": ".jl",
   "mimetype": "application/julia",
   "name": "julia",
   "version": "0.5.2"
  }
 },
 "nbformat": 4,
 "nbformat_minor": 1
}
