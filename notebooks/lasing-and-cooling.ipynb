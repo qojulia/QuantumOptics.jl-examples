{
 "cells": [
  {
   "cell_type": "markdown",
   "metadata": {},
   "source": [
    "*This notebook can be found on* [github](https://github.com/qojulia/QuantumOptics.jl-examples/tree/master/notebooks/lasing-and-cooling.ipynb)\n",
    "\n",
    "# Simultaneous Lasing, Cooling and Trapping"
   ]
  },
  {
   "cell_type": "markdown",
   "metadata": {},
   "source": [
    "In this example, we investigate simulatenous cooling and lasing of a superradiant laser. The superradiant laser operates in the bad cavity regime, i.e. the linewidth of the lasing transition $\\Gamma$ is much smaller than the linewidth of the cavity $\\kappa$. Usually, this is achieved by using a narrow atomic transitions, e.g. the clock transition of  Strontium $(\\Gamma \\approx 1\\mathrm{mHz})$. The advantage of a superradiant clock laser is its very narrow  linewidth but also robustness against noise."
   ]
  },
  {
   "cell_type": "markdown",
   "metadata": {},
   "source": [
    "In a simple model we describe the superradiant laser by $N$ incoherently pumped two-level atoms inside a cavity, and additionally we include motion along the cavity axis within a semicalssical treatment. The Hamiltonian of the system is "
   ]
  },
  {
   "cell_type": "markdown",
   "metadata": {},
   "source": [
    "$H = \\hbar \\Delta a^\\dagger a + \\hbar \\sum_{i = 1}^{N} g(r_i) [ a \\sigma_{i}^{+} + a^{\\dagger} \\sigma_{i}^{-}]$,"
   ]
  },
  {
   "cell_type": "markdown",
   "metadata": {},
   "source": [
    "where $\\Delta = \\omega_c - \\omega_a$ is the detuing between the cavity resonance frequeny $ω_c$ and the atomic transition frequency $ω_a$. The position-dependent cavity-atom coupling of the $i$-th atoms is given by $g(r_i) = g  \\cos(kr_i)$, with $k$ the wavevector of the cavtiy photons. The cavity field is described by the bosonic creation and annihilation operators $a^{\\dagger}$ and $a$, respectively, and the identical two-level  atoms are characterized by the atomic excitation and deexcitation operators $\\sigma^+$ and $\\sigma^-$, respectively."
   ]
  },
  {
   "cell_type": "markdown",
   "metadata": {},
   "source": [
    "The atomic decay, the photon losses through the cavity mirrors, and the incoherent pump are modeled by their corresponding Liouvillian operators,"
   ]
  },
  {
   "cell_type": "markdown",
   "metadata": {},
   "source": [
    "$ \\mathcal{L}_{\\text{sp}}[\\rho] = \\frac{1}{2} \\Gamma \\sum_{i}(2 \\sigma_i^- \\rho \\sigma_i^+ - \\sigma_i^+ \\sigma_i^- \\rho - \\rho \\sigma_i^+ \\sigma_i^-)$,\n",
    "\n",
    "$ \\mathcal{L}_{\\text{cav}}[\\rho] = \\frac{1}{2} \\kappa (2 a \\rho a^\\dagger - a^\\dagger a \\rho - \\rho a^\\dagger a)$\n",
    "\n",
    "and\n",
    "\n",
    "$\\mathcal{L}_{\\text{pump}}[\\rho] = \\frac{1}{2} R \\sum_{i} (2 \\sigma^+_i \\rho \\sigma^-_i - \\sigma^-_i \\sigma^+_i \\rho - \\rho \\sigma^-_i \\sigma^+_i )$,"
   ]
  },
  {
   "cell_type": "markdown",
   "metadata": {},
   "source": [
    "with the incoherent pump rate $R$. To obtain the equations for the particles' semiclassical motion we use the Ehrenfest theorem leading to"
   ]
  },
  {
   "cell_type": "markdown",
   "metadata": {},
   "source": [
    "$\\dot{r}_i = 2 \\omega_{\\text{r}} p_i$\n",
    "\n",
    "and\n",
    "\n",
    "$\\dot{p}_i = 2 g  \\sin(k r_i) \\langle a \\sigma_{i}^{+} + a^{\\dagger} \\sigma_{i}^{-} \\rangle$,"
   ]
  },
  {
   "cell_type": "markdown",
   "metadata": {},
   "source": [
    "where $p_i$ is the momentum of the $i$-th particle and $\\omega_r =  \\hbar k^2/2m$ the recoil frequency. The time evolution of the system described above can be calculated by using the implemented semiclassical master equation."
   ]
  },
  {
   "cell_type": "markdown",
   "metadata": {},
   "source": [
    "First we import the needed libraries and define the variables, Hilbertspaces and operators of the system."
   ]
  },
  {
   "cell_type": "code",
   "execution_count": null,
   "metadata": {},
   "outputs": [],
   "source": [
    "using QuantumOptics\n",
    "using PyPlot\n",
    "using OrdinaryDiffEq\n",
    "using Interpolations"
   ]
  },
  {
   "cell_type": "code",
   "execution_count": null,
   "metadata": {},
   "outputs": [],
   "source": [
    "n_p = 3 #photonen cutoff\n",
    "N_a = 2 #number of atoms\n",
    "\n",
    "#all variables and parameters are given in units of the following three\n",
    "Γ = 1.0 #spontaneous emission rate\n",
    "k = 1.0 #wavevector of the atom transition and the cavity field\n",
    "ħ = 1.0 #Planck constant\n",
    "\n",
    "ω_r = 0.1Γ #recoil frequency\n",
    "Δ = 5.0Γ #cavity atom detuning Δ=ω_c-ω_a\n",
    "g = 5.0Γ #coupling constant\n",
    "κ = 20Γ #cavity loss rate\n",
    "R = 8.0Γ #pump rate\n",
    "λ = 2π/k #wavelength\n",
    "\n",
    "#defining the basis of the Hilbertspace\n",
    "b_c = FockBasis(n_p) #Fockbasis (cavity field)\n",
    "b_a = SpinBasis(1//2) #2-level basis (atom)\n",
    "b_all = tensor([b_a for i=1:N_a]...)⊗b_c #complete joint quantum basis\n",
    "\n",
    "#defining operators\n",
    "a = embed(b_all, N_a + 1, destroy(b_c)) #field annihilation operator\n",
    "ad = dagger(a) #field creation operator\n",
    "sm = [[embed(b_all, i, sigmam(b_a)) for i=1:N_a]...] #array of atom σ- operators\n",
    "sp = dagger.(sm) #array of atom σ+ operators\n",
    "\n",
    "#for faster computation we precalculate frequently used operator products\n",
    "smad = [[sm[i]*ad for i=1:N_a]...]\n",
    "spa = dagger.(smad)\n",
    "spsm = sp.*sm\n",
    "ada = ad*a\n",
    "spsm_ar = [sp[i]*sm[j] for i=1:N_a, j=1:N_a]\n",
    "spa_plus_smad = spa + smad;"
   ]
  },
  {
   "cell_type": "markdown",
   "metadata": {},
   "source": [
    "Now we define the Hamiltonian and the Liouvillian, as well as the functions to update the quantum operators and the classical variables for the semiclassical time evolution. "
   ]
  },
  {
   "cell_type": "code",
   "execution_count": null,
   "metadata": {},
   "outputs": [],
   "source": [
    "H0 = Δ*ad*a #field and two-level atom Hamiltonian in rotaing frame\n",
    "\n",
    "#Jump-Operators for Liouvillian\n",
    "J = [[sm[i] for i=1:N_a]..., [sp[i] for i=1:N_a]..., a]\n",
    "Jd = dagger.(J)\n",
    "\n",
    "#rates of the dissipative processes\n",
    "rates = [[Γ for i=1:N_a]..., [R for i=1:N_a]..., κ]\n",
    "\n",
    "#function to update the Hammiltonian at every timestep\n",
    "function f_q(t,ψ,u)\n",
    "    #update H\n",
    "    H_int = g*sum(cos.(u[1:N_a]*k).*spa_plus_smad)\n",
    "    H = H0 + H_int\n",
    "    #J and rates are always the same\n",
    "    return H, J, Jd, rates\n",
    "end\n",
    "\n",
    "#function to update classical variables (Ehrenfest-theorem)\n",
    "function f_cl!(du,u,ψ,t)\n",
    "    #update position\n",
    "    for i = 1:N_a\n",
    "        du[i] = 2*ω_r*u[N_a + i]\n",
    "    end\n",
    "    #update momentum\n",
    "    for i = 1:N_a\n",
    "        du[N_a + i] = 1/k*2*g*sin(u[i]*k)*real(expect(spa[i],ψ))       \n",
    "    end\n",
    "end;"
   ]
  },
  {
   "cell_type": "markdown",
   "metadata": {},
   "source": [
    "Here we define the initial state and calculate the time evolution of the semiclassical system and compute the time evolution."
   ]
  },
  {
   "cell_type": "code",
   "execution_count": null,
   "metadata": {},
   "outputs": [],
   "source": [
    "#initial state\n",
    "d_atoms = 0.5λ #initial atom spacing\n",
    "#initial classical position and momentum of the atoms:\n",
    "u = ComplexF64[[i for i=0:N_a-1]*d_atoms...,([i for i=0:N_a-1]*0.1.+1.5)ħ*k...]\n",
    "#initial semi-classical state: all spins down and 0 photons + classical variables\n",
    "ψ = semiclassical.State(tensor([spindown(b_a) for i=1:N_a]...,fockstate(b_c, 0)),u)\n",
    "\n",
    "#semi-classical time evolution\n",
    "timestep = 0.1\n",
    "t_max = 500\n",
    "T=[0:timestep:t_max;]/Γ\n",
    "t,ρt = semiclassical.master_dynamic(T,ψ,f_q,f_cl!);"
   ]
  },
  {
   "cell_type": "markdown",
   "metadata": {},
   "source": [
    "We calculate some expectation values and plot the results."
   ]
  },
  {
   "cell_type": "code",
   "execution_count": null,
   "metadata": {},
   "outputs": [],
   "source": [
    "#analyzing data\n",
    "r = [[Float64[] for i=1:N_a]...] #postions of the particles at every timestep\n",
    "p = [[Float64[] for i=1:N_a]...] #momenta of the particles\n",
    "E_kin = [[Float64[] for i=1:N_a]...] #kinetic energies of the particles\n",
    "n = Float64[] #number of photons in the cavity\n",
    "popu = [[Float64[] for i=1:N_a]...] #excited state population of the particles\n",
    "g2_0 = Float64[] #second order correlation function\n",
    "\n",
    "for it=1:N_a\n",
    "    r[it] = [ρt[i].classical[it] for i=1:length(ρt)]\n",
    "    p[it] = [ρt[i].classical[N_a + it] for i=1:length(ρt)]\n",
    "    E_kin[it] = [(ρt[i].classical[N_a + it])^2 for i=1:length(ρt)]\n",
    "    popu[it] = [real(expect(spsm[it],ρt[i])) for i=1:length(ρt)]\n",
    "end\n",
    "n = [real(expect(ada,ρt[i])) for i=1:length(ρt)]\n",
    "g2_0=[real(expect(ad*ad*a*a,ρt[i])/(expect(ada,ρt[i]))^2)\n",
    "    for i=[2,[2:1:length(ρt);]...]]\n",
    "E_kin_all = sum(E_kin); #overall kinetic energy"
   ]
  },
  {
   "cell_type": "code",
   "execution_count": null,
   "metadata": {},
   "outputs": [],
   "source": [
    "figure(figsize=(10, 6))\n",
    "#position\n",
    "subplot(221)\n",
    "for i=1:N_a\n",
    "    plot(t*Γ, r[i]/λ, label=\"atom $(i)\")\n",
    "end\n",
    "xlabel(\"tΓ\")\n",
    "ylabel(\"r/λ\")\n",
    "legend()\n",
    "\n",
    "#overall kinetic energy\n",
    "subplot(222)\n",
    "plot(t*Γ, E_kin_all/E_kin_all[1])\n",
    "xlabel(\"tΓ\")\n",
    "ylabel(\"kin. energy\")\n",
    "\n",
    "#cavity photon number\n",
    "subplot(223)\n",
    "plot(t*Γ, n)\n",
    "xlabel(\"tΓ\")\n",
    "ylabel(\"n\")\n",
    "\n",
    "#overall population per atom\n",
    "subplot(224)\n",
    "plot(t*Γ, sum(popu)/N_a)\n",
    "xlabel(\"tΓ\")\n",
    "ylabel(\"average population per atom\");"
   ]
  },
  {
   "cell_type": "markdown",
   "metadata": {},
   "source": [
    "Finally, we calculate the spectrum of the output field. Obviously there is no steady state for our system since the particles always move. Therefore, we calculate the two-time correlation function just for the final state of the cooling process. Due to the semiclassical motion we need to precalculate the positions of the particles to obtain the spectrum, see [arXiv:1906.01945](https://arxiv.org/abs/1906.01945) for details."
   ]
  },
  {
   "cell_type": "code",
   "execution_count": null,
   "metadata": {},
   "outputs": [],
   "source": [
    "#calculate semiclassical spectrum\n",
    "T_spec = [0:0.01:50;]\n",
    "t1, ρt1 = semiclassical.master_dynamic(T_spec,ρt[end],f_q,f_cl!; alg=Tsit5())\n",
    "r_spec = [[Float64[] for i=1:N_a]...] #postions of the particles at every timestep\n",
    "\n",
    "#produce continous particle trajectories for further calculations\n",
    "r_spline = []\n",
    "for it=1:N_a\n",
    "    r_spec[it] = [real(ρt1.classical[it]) for ρt1=ρt1]\n",
    "    push!(r_spline, interpolate((t1,), r_spec[it], Gridded(Linear())))\n",
    "end\n",
    "\n",
    "function Ht(t,rho)\n",
    "    u = [r_spline[it](t) for it=1:N_a]\n",
    "    H_int = g*sum(cos.(u[1:N_a]*k).*spa_plus_smad)\n",
    "    H = H0 + H_int\n",
    "    return H, J, Jd, rates\n",
    "end\n",
    "\n",
    "\n",
    "aρ0 = a*ρt[end].quantum\n",
    "τ, aρt = timeevolution.master_dynamic(T_spec,aρ0,Ht; alg=Tsit5())\n",
    "corr = expect(ad, aρt)\n",
    "ω, spec = timecorrelations.correlation2spectrum(τ, corr)\n",
    "spec_0 = spec .- minimum(spec) #set spectrum minimum to 0\n",
    "spec_0_norm = spec_0./maximum(spec_0);"
   ]
  },
  {
   "cell_type": "code",
   "execution_count": null,
   "metadata": {},
   "outputs": [],
   "source": [
    "figure(figsize=(5, 3))\n",
    "plot(ω/Γ, spec_0_norm)\n",
    "xlabel(\"ω/Γ\")\n",
    "ylabel(\"spectrum\")\n",
    "xlim(xmin=-45, xmax=45);"
   ]
  }
 ],
 "metadata": {
  "@webio": {
   "lastCommId": null,
   "lastKernelId": null
  },
  "kernelspec": {
   "display_name": "Julia 1.6.1",
   "language": "julia",
   "name": "julia-1.6"
  },
  "language_info": {
   "file_extension": ".jl",
   "mimetype": "application/julia",
   "name": "julia",
   "version": "1.6.1"
  }
 },
 "nbformat": 4,
 "nbformat_minor": 2
}
